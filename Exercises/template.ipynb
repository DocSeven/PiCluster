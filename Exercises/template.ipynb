{
 "cells": [
  {
   "cell_type": "code",
   "execution_count": 2,
   "metadata": {},
   "outputs": [
    {
     "name": "stdout",
     "output_type": "stream",
     "text": [
      "Pi is roughly 3.156360\n"
     ]
    }
   ],
   "source": [
    "from __future__ import print_function\n",
    "\n",
    "import sys\n",
    "from random import random\n",
    "from operator import add\n",
    "\n",
    "from pyspark.sql import SparkSession\n",
    "\n",
    "\n",
    "if __name__ == \"__main__\":\n",
    "\n",
    "    # Connect to the master\n",
    "    spark = SparkSession\\\n",
    "        .builder\\\n",
    "        .master(\"spark://sparkmaster:7077\")\\\n",
    "        .appName(\"template\") \\\n",
    "        .getOrCreate()\n",
    "    \n",
    "    # Calculate Pi in parallel\n",
    "    def f(_):\n",
    "        x = random() * 2 - 1\n",
    "        y = random() * 2 - 1\n",
    "        return 1 if x ** 2 + y ** 2 <= 1 else 0\n",
    "    result = spark.sparkContext.parallelize(range(1, 100000 + 1), 1).map(f).reduce(add) / 100000 * 4.0\n",
    "    \n",
    "    # Print Result\n",
    "    print(\"Pi is roughly %f\" % result)\n",
    "    \n",
    "    # Disconnect\n",
    "    spark.stop()"
   ]
  }
 ],
 "metadata": {
  "kernelspec": {
   "display_name": "Python 3",
   "language": "python",
   "name": "python3"
  },
  "language_info": {
   "codemirror_mode": {
    "name": "ipython",
    "version": 3
   },
   "file_extension": ".py",
   "mimetype": "text/x-python",
   "name": "python",
   "nbconvert_exporter": "python",
   "pygments_lexer": "ipython3",
   "version": "3.6.9"
  }
 },
 "nbformat": 4,
 "nbformat_minor": 4
}
